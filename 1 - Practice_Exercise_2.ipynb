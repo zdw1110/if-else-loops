{
 "cells": [
  {
   "cell_type": "markdown",
   "metadata": {},
   "source": [
    "1. Ask user to enter a string and check that it is made up only alphabets:"
   ]
  },
  {
   "cell_type": "code",
   "execution_count": 1,
   "metadata": {},
   "outputs": [
    {
     "name": "stdout",
     "output_type": "stream",
     "text": [
      "The string is made up of only alphabets.\n"
     ]
    }
   ],
   "source": [
    "user_input = input(\"Enter a string: \")\n",
    "if user_input.isalpha():\n",
    "    print(\"The string is made up of only alphabets.\")\n",
    "else:\n",
    "    print(\"The string contains non-alphabet characters.\")"
   ]
  },
  {
   "cell_type": "markdown",
   "metadata": {},
   "source": [
    "2. Now, make sure that the string is made up of both alphabets and numbers:\n",
    "\n",
    "TRY using isalnum() function and then entering only alhpabets in the string and see what happens."
   ]
  },
  {
   "cell_type": "code",
   "execution_count": 2,
   "metadata": {},
   "outputs": [
    {
     "name": "stdout",
     "output_type": "stream",
     "text": [
      "The string does not contain both alphabets and numbers.\n"
     ]
    }
   ],
   "source": [
    "user_input = input(\"Enter a string: \")\n",
    "\n",
    "if user_input.isalnum():\n",
    "    has_alpha = False\n",
    "    has_digit = False\n",
    "\n",
    "    for char in user_input:\n",
    "        if char.isalpha():\n",
    "            has_alpha = True\n",
    "        elif char.isdigit():\n",
    "            has_digit = True\n",
    "\n",
    "        if has_alpha and has_digit:\n",
    "            break\n",
    "\n",
    "    if has_alpha and has_digit:\n",
    "        print(\"The string is made up of both alphabets and numbers.\")\n",
    "    else:\n",
    "        print(\"The string does not contain both alphabets and numbers.\")\n",
    "else:\n",
    "    print(\"The string contains non-alphanumeric characters.\")"
   ]
  },
  {
   "cell_type": "markdown",
   "metadata": {},
   "source": [
    "3. Now, make sure that the string is made up of both alphabets and at least one number:\n"
   ]
  },
  {
   "cell_type": "code",
   "execution_count": 3,
   "metadata": {},
   "outputs": [
    {
     "name": "stdout",
     "output_type": "stream",
     "text": [
      "The string is made up of both alphabets and numbers.\n"
     ]
    }
   ],
   "source": [
    "user_input = input(\"Enter a string: \")\n",
    "\n",
    "if user_input.isalnum():\n",
    "    has_alpha = False\n",
    "    has_digit = False\n",
    "\n",
    "    for char in user_input:\n",
    "        if char.isalpha():\n",
    "            has_alpha = True\n",
    "        elif char.isdigit():\n",
    "            has_digit = True\n",
    "\n",
    "        if has_alpha and has_digit:\n",
    "            break\n",
    "\n",
    "    if has_alpha and has_digit:\n",
    "        print(\"The string is made up of both alphabets and numbers.\")\n",
    "    else:\n",
    "        print(\"The string does not contain both alphabets and numbers.\")\n",
    "else:\n",
    "    print(\"The string contains non-alphanumeric characters.\")"
   ]
  },
  {
   "cell_type": "markdown",
   "metadata": {},
   "source": [
    "4. Now, make sure that the string is made up of both alphabets, at least one number, and at least one special character:"
   ]
  },
  {
   "cell_type": "code",
   "execution_count": 4,
   "metadata": {},
   "outputs": [
    {
     "name": "stdout",
     "output_type": "stream",
     "text": [
      "This string contains letters, at least one number, and at least one special character.\n"
     ]
    }
   ],
   "source": [
    "user_input = input(\"Please enter a string: \")\n",
    "\n",
    "has_alpha = False   \n",
    "has_digit = False  \n",
    "has_special = False \n",
    "\n",
    "for char in user_input:\n",
    "    if char.isalpha():  \n",
    "        has_alpha = True\n",
    "    elif char.isdigit():  \n",
    "        has_digit = True\n",
    "    else: \n",
    "        has_special = True\n",
    "    \n",
    "\n",
    "if has_alpha and has_digit and has_special:\n",
    "    print(\"This string contains letters, at least one number, and at least one special character.\")\n",
    "else:\n",
    "    print(\"The string does not meet the requirements and needs to contain at least one letter, at least one number, and at least one special character.\")"
   ]
  },
  {
   "cell_type": "markdown",
   "metadata": {},
   "source": [
    "5. Now, modify the above code so that if the user enters an invalid string, the program should ask the user to enter another string again, and keep asking until a valid string has been entered."
   ]
  },
  {
   "cell_type": "code",
   "execution_count": 5,
   "metadata": {},
   "outputs": [
    {
     "name": "stdout",
     "output_type": "stream",
     "text": [
      "The string does not meet the requirements and needs to contain at least one letter, at least one number, and at least one special character.\n",
      "The string does not meet the requirements and needs to contain at least one letter, at least one number, and at least one special character.\n",
      "This string contains letters, at least one number, and at least one special character.\n"
     ]
    }
   ],
   "source": [
    "while True:\n",
    "  user_input = input(\"Please enter a string: \")\n",
    "\n",
    "  has_alpha = False   \n",
    "  has_digit = False  \n",
    "  has_special = False \n",
    "\n",
    "  for char in user_input:\n",
    "    if char.isalpha():  \n",
    "        has_alpha = True\n",
    "    elif char.isdigit():  \n",
    "        has_digit = True\n",
    "    else: \n",
    "        has_special = True\n",
    "    \n",
    "\n",
    "  if has_alpha and has_digit and has_special:\n",
    "    print(\"This string contains letters, at least one number, and at least one special character.\")\n",
    "    break \n",
    "  else:\n",
    "    print(\"The string does not meet the requirements and needs to contain at least one letter, at least one number, and at least one special character.\")"
   ]
  }
 ],
 "metadata": {
  "kernelspec": {
   "display_name": "Python 3",
   "language": "python",
   "name": "python3"
  },
  "language_info": {
   "codemirror_mode": {
    "name": "ipython",
    "version": 3
   },
   "file_extension": ".py",
   "mimetype": "text/x-python",
   "name": "python",
   "nbconvert_exporter": "python",
   "pygments_lexer": "ipython3",
   "version": "3.8.10"
  }
 },
 "nbformat": 4,
 "nbformat_minor": 2
}
